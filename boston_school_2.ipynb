from sklearn.datasets import load_boston
load_boston = load_boston()

x = load_boston.data
y = load_boston.target

data = pd.DataFrame(x,columns=load_boston.feature_names)


pd.DataFrame(x,columns=load_boston.feature_names)
