import  numpy as np 
import pandas as pd

import plotly.express as px
import plotly.graph_objects as go 
import plotly.io as pio

import seaborn as sns
import matplotlib.pyplot as plt
%matplotlib
